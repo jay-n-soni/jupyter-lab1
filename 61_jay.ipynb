{
 "cells": [
  {
   "cell_type": "code",
   "execution_count": 52,
   "id": "0acfc4bf",
   "metadata": {},
   "outputs": [],
   "source": [
    "import numpy as np"
   ]
  },
  {
   "cell_type": "code",
   "execution_count": 53,
   "id": "b6056140",
   "metadata": {},
   "outputs": [
    {
     "name": "stdout",
     "output_type": "stream",
     "text": [
      "[1 2 3 4 5 6]\n"
     ]
    }
   ],
   "source": [
    "a1 = np.array([1,2,3,4,5,6]) #simple array\n",
    "print(a1) # print an array"
   ]
  },
  {
   "cell_type": "code",
   "execution_count": 54,
   "id": "11778990",
   "metadata": {},
   "outputs": [
    {
     "name": "stdout",
     "output_type": "stream",
     "text": [
      "[[ 1  2  3  4  5]\n",
      " [ 6  7  8  9 10]]\n"
     ]
    }
   ],
   "source": [
    "a2 = np.array([[1,2,3,4,5],[6,7,8,9,10]]) #2 Dimensional array\n",
    "print(a2) # Print an 2D array"
   ]
  },
  {
   "cell_type": "code",
   "execution_count": 55,
   "id": "c1e210c9",
   "metadata": {},
   "outputs": [
    {
     "name": "stdout",
     "output_type": "stream",
     "text": [
      "Shape of a1(6,)\n"
     ]
    }
   ],
   "source": [
    "print(\"Shape of a1{}\".format(a1.shape)) # Return shape of an array"
   ]
  },
  {
   "cell_type": "code",
   "execution_count": 56,
   "id": "2e39e874",
   "metadata": {},
   "outputs": [
    {
     "name": "stdout",
     "output_type": "stream",
     "text": [
      "Shape of a2(2, 5)\n"
     ]
    }
   ],
   "source": [
    "print(\"Shape of a2{}\".format(a2.shape)) # Return shape of an 2D array"
   ]
  },
  {
   "cell_type": "code",
   "execution_count": 57,
   "id": "912f6346",
   "metadata": {},
   "outputs": [],
   "source": [
    "a = np.array([1,2,3,4,5,6,7,8])"
   ]
  },
  {
   "cell_type": "code",
   "execution_count": 58,
   "id": "f8f92913",
   "metadata": {},
   "outputs": [
    {
     "name": "stdout",
     "output_type": "stream",
     "text": [
      "size 6\n",
      "dtype int64\n",
      "itemsize 8\n",
      "data <memory at 0x7f6b7694e400>\n"
     ]
    }
   ],
   "source": [
    "print(\"size {}\".format(a1.size)) # Print size of an array\n",
    "print(f\"dtype {a1.dtype}\") # print data type of an array\n",
    "print(f\"itemsize {a1.itemsize}\") # print itemsize of an array\n",
    "print(f\"data {a1.data}\")\n"
   ]
  },
  {
   "cell_type": "code",
   "execution_count": 59,
   "id": "832af5bf",
   "metadata": {},
   "outputs": [
    {
     "name": "stdout",
     "output_type": "stream",
     "text": [
      "[2 3 4]\n"
     ]
    }
   ],
   "source": [
    "print(a[1:4]) #print slicing of an array"
   ]
  },
  {
   "cell_type": "code",
   "execution_count": 60,
   "id": "6d224615",
   "metadata": {},
   "outputs": [
    {
     "name": "stdout",
     "output_type": "stream",
     "text": [
      "[2 3 4]\n"
     ]
    }
   ],
   "source": [
    "a = np.array([1,2,3,4,5,6,7,8])\n",
    "print(a[1:4])"
   ]
  },
  {
   "cell_type": "code",
   "execution_count": 61,
   "id": "71c6b43f",
   "metadata": {},
   "outputs": [
    {
     "name": "stdout",
     "output_type": "stream",
     "text": [
      "[[1 2]\n",
      " [3 4]]\n",
      "[[5 6]\n",
      " [7 8]]\n",
      "[[19 22]\n",
      " [43 50]]\n"
     ]
    }
   ],
   "source": [
    "n1 = np.array([[1,2],[3,4]])\n",
    "n2 = np.array([[5,6],[7,8]])\n",
    "print(n1)\n",
    "print(n2)\n",
    "mul=np.dot(n1,n2) # Calculate the dot element of 'a' and 'b'\n",
    "print(mul) # print the result of an dot element\n"
   ]
  },
  {
   "cell_type": "code",
   "execution_count": 62,
   "id": "0b166ee7",
   "metadata": {},
   "outputs": [
    {
     "name": "stdout",
     "output_type": "stream",
     "text": [
      "[[ 5 12]\n",
      " [21 32]]\n"
     ]
    }
   ],
   "source": [
    "mulM= np.multiply(n1,n2) # Multiplication of an array\n",
    "print(mulM)"
   ]
  },
  {
   "cell_type": "code",
   "execution_count": 63,
   "id": "b92c65b2",
   "metadata": {},
   "outputs": [
    {
     "name": "stdout",
     "output_type": "stream",
     "text": [
      "[[ 6  8]\n",
      " [10 12]]\n"
     ]
    }
   ],
   "source": [
    "add1= np.add(n1,n2) # Addition of an array\n",
    "print(add1)"
   ]
  },
  {
   "cell_type": "code",
   "execution_count": 64,
   "id": "30b28c38",
   "metadata": {},
   "outputs": [
    {
     "name": "stdout",
     "output_type": "stream",
     "text": [
      "[[4 4]\n",
      " [4 4]]\n"
     ]
    }
   ],
   "source": [
    "subtract1= np.subtract(n2,n1 # Subtraction of an array\n",
    "print(subtract1)"
   ]
  },
  {
   "cell_type": "code",
   "execution_count": 65,
   "id": "a0c489f5",
   "metadata": {},
   "outputs": [
    {
     "name": "stdout",
     "output_type": "stream",
     "text": [
      "[[0.2        0.33333333]\n",
      " [0.42857143 0.5       ]]\n"
     ]
    }
   ],
   "source": [
    "divide1 = np.divide(n1,n2) # Division of an array\n",
    "print(divide1)"
   ]
  },
  {
   "cell_type": "code",
   "execution_count": 66,
   "id": "bec5be1c",
   "metadata": {},
   "outputs": [
    {
     "name": "stdout",
     "output_type": "stream",
     "text": [
      "[1 2 3 4 5 6 7 8 9]\n",
      "[[1 2 3]\n",
      " [4 5 6]\n",
      " [7 8 9]]\n"
     ]
    }
   ],
   "source": [
    "m3 = np.array([1,2,3,4,5,6,7,8,9])\n",
    "print(m3)\n",
    "re = m3.reshape(3,3)\n",
    "print(re) # Reshape an array"
   ]
  },
  {
   "cell_type": "code",
   "execution_count": 67,
   "id": "8d29bd5f",
   "metadata": {},
   "outputs": [
    {
     "name": "stdout",
     "output_type": "stream",
     "text": [
      "Maximum number is :  9\n",
      "Minimum number is :  1\n",
      "Maximum number is :  [3 6 9]\n",
      "Minimum number is :  [1 2 3]\n"
     ]
    }
   ],
   "source": [
    "print(\"Maximum number is : \",m3.max()) # Give maximum number from an array\n",
    "print(\"Minimum number is : \",m3.min()) # Give minimum number from an array\n",
    "print(\"Maximum number is : \",re.max(axis=1)) # Give maximum number from rows of an matrix \n",
    "print(\"Minimum number is : \",re.min(axis=0)) # Give minimum number from columns of an matrix"
   ]
  },
  {
   "cell_type": "code",
   "execution_count": 68,
   "id": "1c417cbd",
   "metadata": {},
   "outputs": [
    {
     "name": "stdout",
     "output_type": "stream",
     "text": [
      "[[ 4  9 25]\n",
      " [36 49 64]]\n",
      "[[2. 3. 5.]\n",
      " [6. 7. 8.]]\n",
      "21.16141667175323\n"
     ]
    }
   ],
   "source": [
    "m4 = np.array([[4,9,25],[36,49,64]])\n",
    "print(m4)\n",
    "print(np.sqrt(m4)) # Give square root of an elements from array\n",
    "print(np.std(m4)) # Give standard deviation of an elements from array "
   ]
  },
  {
   "cell_type": "code",
   "execution_count": 69,
   "id": "5ac9b733",
   "metadata": {},
   "outputs": [
    {
     "name": "stdout",
     "output_type": "stream",
     "text": [
      "[[1 2]\n",
      " [3 4]\n",
      " [5 6]\n",
      " [7 8]]\n",
      "[[1 2 5 6]\n",
      " [3 4 7 8]]\n"
     ]
    }
   ],
   "source": [
    "v = np.vstack((n1,n2)) # Give vertical stack of an array\n",
    "print(v)\n",
    "h = np.hstack((n1,n2)) # Give horizontal stack of an array\n",
    "print(h)"
   ]
  },
  {
   "cell_type": "code",
   "execution_count": 71,
   "id": "250ddb80",
   "metadata": {},
   "outputs": [
    {
     "name": "stdout",
     "output_type": "stream",
     "text": [
      "[ 0.  2.  4.  6.  8. 10. 12. 14. 16. 18.]\n",
      "Data Type :  float64\n"
     ]
    }
   ],
   "source": [
    "arr = np.arange(0,20,2,float) # Return range of an element from 0 to 20 in float data type \n",
    "print(arr)\n",
    "print(\"Data Type : \", arr.dtype)"
   ]
  },
  {
   "cell_type": "code",
   "execution_count": 72,
   "id": "76c587b3",
   "metadata": {},
   "outputs": [
    {
     "name": "stdout",
     "output_type": "stream",
     "text": [
      "[ 0. 10. 20.]\n"
     ]
    }
   ],
   "source": [
    "arr1 = np.linspace(0,20,3) # Create 3 evenly spaced number from 0 to 20 \n",
    "print(arr1)"
   ]
  },
  {
   "cell_type": "code",
   "execution_count": 77,
   "id": "208c15c7",
   "metadata": {},
   "outputs": [
    {
     "name": "stdout",
     "output_type": "stream",
     "text": [
      "[1 2 3 4]\n"
     ]
    }
   ],
   "source": [
    "ht = h.T # Transpose array 'h'\n",
    "print(ht) #Print the Transpose array"
   ]
  },
  {
   "cell_type": "code",
   "execution_count": 78,
   "id": "22e3dcb5",
   "metadata": {},
   "outputs": [
    {
     "name": "stdout",
     "output_type": "stream",
     "text": [
      "[[1 3]\n",
      " [2 4]]\n"
     ]
    }
   ],
   "source": [
    "vt = v.T \n",
    "print(vt) "
   ]
  },
  {
   "cell_type": "code",
   "execution_count": 79,
   "id": "1360a237",
   "metadata": {},
   "outputs": [
    {
     "name": "stdout",
     "output_type": "stream",
     "text": [
      "Ak 1\n",
      "Ak 2\n",
      "Ak 3\n",
      "Ak 4\n"
     ]
    }
   ],
   "source": [
    "for i in np.nditer(ht):\n",
    "    print(\"Ak\",i) #  iterating over elements of an array"
   ]
  },
  {
   "cell_type": "code",
   "execution_count": 80,
   "id": "fce211e3",
   "metadata": {},
   "outputs": [
    {
     "name": "stdout",
     "output_type": "stream",
     "text": [
      "[[ 2.71828183  7.3890561 ]\n",
      " [20.08553692 54.59815003]]\n"
     ]
    }
   ],
   "source": [
    "print(np.exp(n1)) # compute the exponential of all elements of an array"
   ]
  },
  {
   "cell_type": "code",
   "execution_count": 82,
   "id": "ebd48e87",
   "metadata": {},
   "outputs": [
    {
     "name": "stdout",
     "output_type": "stream",
     "text": [
      "[[ 0.84147098  0.90929743]\n",
      " [ 0.14112001 -0.7568025 ]]\n"
     ]
    }
   ],
   "source": [
    "print(np.sin(n1)) # computes the sine of each element of an array"
   ]
  },
  {
   "cell_type": "code",
   "execution_count": 81,
   "id": "3aca2672",
   "metadata": {},
   "outputs": [
    {
     "name": "stdout",
     "output_type": "stream",
     "text": [
      "[[ 0.54030231 -0.41614684]\n",
      " [-0.9899925  -0.65364362]]\n"
     ]
    }
   ],
   "source": [
    "print(np.cos(n1)) # computes the cosine of each element of an array"
   ]
  },
  {
   "cell_type": "code",
   "execution_count": 83,
   "id": "ac55dc14",
   "metadata": {},
   "outputs": [
    {
     "name": "stdout",
     "output_type": "stream",
     "text": [
      "[[0.         0.69314718]\n",
      " [1.09861229 1.38629436]]\n"
     ]
    }
   ],
   "source": [
    "print(np.log(n1)) # computes the natural logarithm of each element an array"
   ]
  },
  {
   "cell_type": "code",
   "execution_count": 84,
   "id": "24a2147c",
   "metadata": {},
   "outputs": [
    {
     "name": "stdout",
     "output_type": "stream",
     "text": [
      "10\n"
     ]
    }
   ],
   "source": [
    "print(np.sum(n1)) # Calculate total element of an array"
   ]
  },
  {
   "cell_type": "code",
   "execution_count": 85,
   "id": "b8a5f084",
   "metadata": {},
   "outputs": [
    {
     "name": "stdout",
     "output_type": "stream",
     "text": [
      "mean 2.5\n"
     ]
    }
   ],
   "source": [
    "from scipy import stats as st\n",
    "print('mean',np.mean(n1)) # Print mean of an array"
   ]
  },
  {
   "cell_type": "code",
   "execution_count": 86,
   "id": "8d566f03",
   "metadata": {},
   "outputs": [
    {
     "name": "stdout",
     "output_type": "stream",
     "text": [
      "median 2.5\n"
     ]
    }
   ],
   "source": [
    "print('median',np.median(n1)) # Print median of an array"
   ]
  },
  {
   "cell_type": "code",
   "execution_count": 88,
   "id": "09d77dd2",
   "metadata": {},
   "outputs": [
    {
     "name": "stdout",
     "output_type": "stream",
     "text": [
      "mode ModeResult(mode=array([[1, 2]]), count=array([[1, 1]]))\n"
     ]
    }
   ],
   "source": [
    "print('mode',st.mode(n1)) # Print mode of an array"
   ]
  },
  {
   "cell_type": "code",
   "execution_count": null,
   "id": "fc3873e1",
   "metadata": {},
   "outputs": [],
   "source": []
  }
 ],
 "metadata": {
  "kernelspec": {
   "display_name": "Python 3 (ipykernel)",
   "language": "python",
   "name": "python3"
  },
  "language_info": {
   "codemirror_mode": {
    "name": "ipython",
    "version": 3
   },
   "file_extension": ".py",
   "mimetype": "text/x-python",
   "name": "python",
   "nbconvert_exporter": "python",
   "pygments_lexer": "ipython3",
   "version": "3.12.0"
  }
 },
 "nbformat": 4,
 "nbformat_minor": 5
}
