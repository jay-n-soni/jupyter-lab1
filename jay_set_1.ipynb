{
 "cells": [
  {
   "cell_type": "code",
   "execution_count": 35,
   "id": "9ff4e6ff",
   "metadata": {},
   "outputs": [],
   "source": [
    "import numpy as np\n",
    "import pandas as pd\n",
    "import matplotlib.pyplot as plt\n",
    "from sklearn import linear_model"
   ]
  },
  {
   "cell_type": "code",
   "execution_count": 36,
   "id": "9f26f2e2",
   "metadata": {},
   "outputs": [
    {
     "name": "stdout",
     "output_type": "stream",
     "text": [
      "   sepal.length  sepal.width  petal.length  petal.width variety\n",
      "0           5.1          3.5           1.4          0.2  Setosa\n",
      "1           4.9          3.0           1.4          0.2  Setosa\n",
      "2           4.7          3.2           1.3          0.2  Setosa\n",
      "3           4.6          3.1           1.5          0.2  Setosa\n",
      "4           5.0          3.6           1.4          0.2  Setosa\n"
     ]
    }
   ],
   "source": [
    "data=pd.read_csv(\"/home/student/Downloads/iris.csv\")\n",
    "print(data.head())\n",
    "sl_width = data[\"sepal.width\"]"
   ]
  },
  {
   "cell_type": "code",
   "execution_count": 37,
   "id": "9afd10ec",
   "metadata": {},
   "outputs": [
    {
     "name": "stdout",
     "output_type": "stream",
     "text": [
      "0    5.1\n",
      "1    4.9\n",
      "2    4.7\n",
      "3    4.6\n",
      "4    5.0\n",
      "Name: sepal.length, dtype: float64\n"
     ]
    }
   ],
   "source": [
    "sl_length = data[\"sepal.length\"]\n",
    "print(sl_length.head())"
   ]
  },
  {
   "cell_type": "code",
   "execution_count": 38,
   "id": "235cd227",
   "metadata": {},
   "outputs": [
    {
     "name": "stdout",
     "output_type": "stream",
     "text": [
      "0    3.5\n",
      "1    3.0\n",
      "2    3.2\n",
      "3    3.1\n",
      "4    3.6\n",
      "Name: sepal.width, dtype: float64\n"
     ]
    }
   ],
   "source": [
    "sl_width = data[\"sepal.width\"]\n",
    "print(sl_width.head())"
   ]
  },
  {
   "cell_type": "code",
   "execution_count": 39,
   "id": "4194c68d",
   "metadata": {},
   "outputs": [
    {
     "name": "stdout",
     "output_type": "stream",
     "text": [
      "5.843333333333335\n",
      "5.8\n",
      "4.3\n",
      "7.9\n",
      "0.8280661279778629\n"
     ]
    }
   ],
   "source": [
    "#2 Explore the basic statistics of the dataset mean,median,standard deviation,minimum,maximum\n",
    "means=data[\"sepal.length\"].mean()\n",
    "medians=data[\"sepal.length\"].median()\n",
    "mins =data[\"sepal.length\"].min()\n",
    "maxs =data[\"sepal.length\"].max()\n",
    "stds =data[\"sepal.length\"].std()\n",
    "\n",
    "print(means)\n",
    "print(medians)\n",
    "print(mins)\n",
    "print(maxs)\n",
    "print(stds)"
   ]
  },
  {
   "cell_type": "code",
   "execution_count": 40,
   "id": "d3ebfcdd",
   "metadata": {},
   "outputs": [
    {
     "data": {
      "text/plain": [
       "Text(0, 0.5, 'Sepal Width')"
      ]
     },
     "execution_count": 40,
     "metadata": {},
     "output_type": "execute_result"
    },
    {
     "data": {
      "image/png": "[encoded data removed]",
      "text/plain": [
       "<Figure size 432x288 with 1 Axes>"
      ]
     },
     "metadata": {
      "needs_background": "light"
     },
     "output_type": "display_data"
    }
   ],
   "source": [
    "# 3relationship between sepal length and sepal width using scatter plot\n",
    "plt.scatter(sl_length,sl_width,color='red')\n",
    "plt.xlabel('Sepal Length')\n",
    "plt.ylabel('Sepal Width')"
   ]
  },
  {
   "cell_type": "code",
   "execution_count": 41,
   "id": "1203468a",
   "metadata": {},
   "outputs": [
    {
     "name": "stdout",
     "output_type": "stream",
     "text": [
      "   sepal.length  sepal.width  petal.length  petal.width variety  sepal.area\n",
      "0           5.1          3.5           1.4          0.2  Setosa       17.85\n",
      "1           4.9          3.0           1.4          0.2  Setosa       14.70\n",
      "2           4.7          3.2           1.3          0.2  Setosa       15.04\n",
      "3           4.6          3.1           1.5          0.2  Setosa       14.26\n",
      "4           5.0          3.6           1.4          0.2  Setosa       18.00\n"
     ]
    }
   ],
   "source": [
    "# 4 add new colum sepal area in dataframe using product of sepal length and sepal width\n",
    "data['sepal.area'] = data['sepal.length'] * data['sepal.width']\n",
    "print(data.head())"
   ]
  },
  {
   "cell_type": "code",
   "execution_count": 42,
   "id": "9da42819",
   "metadata": {},
   "outputs": [
    {
     "name": "stdout",
     "output_type": "stream",
     "text": [
      "6.9\n"
     ]
    }
   ],
   "source": [
    "# 5 find maximum value of petal width\n",
    "maxp =data[\"petal.length\"].max()\n",
    "print(maxp)"
   ]
  },
  {
   "cell_type": "code",
   "execution_count": 48,
   "id": "63329c4c",
   "metadata": {},
   "outputs": [
    {
     "name": "stdout",
     "output_type": "stream",
     "text": [
      "      variety  sepal.length\n",
      "0      Setosa         5.006\n",
      "1  Versicolor         5.936\n",
      "2   Virginica         6.588\n"
     ]
    }
   ],
   "source": [
    "# 6 using pandas group dataset by species and calculate mean sepal length for each group\n",
    "mean_sepal_length = data.groupby('variety')['sepal.length'].mean().reset_index()\n",
    "print(mean_sepal_length)"
   ]
  },
  {
   "cell_type": "code",
   "execution_count": 55,
   "id": "f4e5e49a",
   "metadata": {},
   "outputs": [],
   "source": [
    "from sklearn.model_selection import train_test_split\n",
    "from sklearn.linear_model import LogisticRegression\n",
    "from sklearn.preprocessing import LabelEncoder"
   ]
  },
  {
   "cell_type": "code",
   "execution_count": 57,
   "id": "920624a3",
   "metadata": {},
   "outputs": [],
   "source": [
    "# 7 defination of dependent variable and independent variable\n",
    "x = data[['sepal.length', 'sepal.width', 'petal.length', 'petal.width']]  # Independent variables\n",
    "y = data['variety']  # Dependent variable"
   ]
  },
  {
   "cell_type": "code",
   "execution_count": 58,
   "id": "e7aa0a36",
   "metadata": {},
   "outputs": [],
   "source": [
    "x_train,x_test,y_train,y_test = train_test_split(x,y,test_size=0.2)"
   ]
  },
  {
   "cell_type": "code",
   "execution_count": 61,
   "id": "82ec1cc3",
   "metadata": {},
   "outputs": [
    {
     "name": "stdout",
     "output_type": "stream",
     "text": [
      "[0 0 0 0 0 0 0 0 0 0 0 0 0 0 0 0 0 0 0 0 0 0 0 0 0 0 0 0 0 0 0 0 0 0 0 0 0\n",
      " 0 0 0 0 0 0 0 0 0 0 0 0 0 1 1 1 1 1 1 1 1 1 1 1 1 1 1 1 1 1 1 1 1 1 1 1 1\n",
      " 1 1 1 1 1 1 1 1 1 1 1 1 1 1 1 1 1 1 1 1 1 1 1 1 1 1 2 2 2 2 2 2 2 2 2 2 2\n",
      " 2 2 2 2 2 2 2 2 2 2 2 2 2 2 2 2 2 2 2 2 2 2 2 2 2 2 2 2 2 2 2 2 2 2 2 2 2\n",
      " 2 2]\n"
     ]
    }
   ],
   "source": [
    "le= LabelEncoder()\n",
    "y=le.fit_transform(y)\n",
    "print(y)"
   ]
  },
  {
   "cell_type": "code",
   "execution_count": null,
   "id": "b66a5193",
   "metadata": {},
   "outputs": [],
   "source": [
    "model= LogisticRegression(max_iter=1000)\n",
    "model.fit(x_train,y_train)\n",
    "y_pred = model.predict(x_test)"
   ]
  }
 ],
 "metadata": {
  "kernelspec": {
   "display_name": "Python 3 (ipykernel)",
   "language": "python",
   "name": "python3"
  },
  "language_info": {
   "codemirror_mode": {
    "name": "ipython",
    "version": 3
   },
   "file_extension": ".py",
   "mimetype": "text/x-python",
   "name": "python",
   "nbconvert_exporter": "python",
   "pygments_lexer": "ipython3",
   "version": "3.9.12"
  }
 },
 "nbformat": 4,
 "nbformat_minor": 5
}
